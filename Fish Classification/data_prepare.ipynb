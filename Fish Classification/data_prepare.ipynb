{
 "cells": [
  {
   "cell_type": "markdown",
   "metadata": {},
   "source": [
    "# Data Preprocessing\n",
    "Extract images from classes (each class is a folder) and save them in one folder with annotation csv file."
   ]
  },
  {
   "cell_type": "code",
   "execution_count": 1,
   "metadata": {},
   "outputs": [],
   "source": [
    "import os \n",
    "import pandas as pd\n",
    "import shutil\n",
    "\n",
    "new_folder = r'./data'\n",
    "os.makedirs(os.path.join(new_folder,'imgs'), exist_ok=True)\n",
    "\n",
    "old_folder = r'./FishData'\n",
    "\n",
    "classes = os.listdir(old_folder)\n",
    "map_class_id = dict((classes[i], i) for i in range(len(classes)))\n",
    "map_id_class = dict(enumerate(classes))\n",
    "\n",
    "img_paths = []\n",
    "labels = []\n",
    "Id = 0\n",
    "\n",
    "for c in classes:\n",
    "    label = map_class_id[c]\n",
    "    for root, dirs, files in os.walk(os.path.join(old_folder,c)):\n",
    "        for file in files:\n",
    "            old_path = os.path.join(root,file)\n",
    "            new_path = os.path.join(new_folder,'imgs',f'{Id:03}.jpg')\n",
    "            img_paths.append(new_path)\n",
    "            labels.append(label)\n",
    "            Id+=1\n",
    "            \n",
    "            shutil.copyfile(old_path, new_path)\n",
    "annotations = pd.DataFrame(list(zip(img_paths,labels)),columns=['path','label'])\n",
    "annotations.to_csv(os.path.join(new_folder,'annotations.csv'),index=False)"
   ]
  },
  {
   "cell_type": "code",
   "execution_count": 3,
   "metadata": {},
   "outputs": [
    {
     "data": {
      "text/plain": [
       "{0: 'Dace', 1: 'Roach', 2: 'Perch'}"
      ]
     },
     "execution_count": 3,
     "metadata": {},
     "output_type": "execute_result"
    }
   ],
   "source": [
    "map_id_class"
   ]
  }
 ],
 "metadata": {
  "kernelspec": {
   "display_name": "pt",
   "language": "python",
   "name": "python3"
  },
  "language_info": {
   "codemirror_mode": {
    "name": "ipython",
    "version": 3
   },
   "file_extension": ".py",
   "mimetype": "text/x-python",
   "name": "python",
   "nbconvert_exporter": "python",
   "pygments_lexer": "ipython3",
   "version": "3.10.13"
  },
  "orig_nbformat": 4
 },
 "nbformat": 4,
 "nbformat_minor": 2
}
